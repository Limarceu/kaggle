{
 "cells": [
  {
   "cell_type": "code",
   "execution_count": null,
   "source": [
    "import pandas as pd\r\n",
    "import numpy as np\r\n",
    "from sklearn.ensemble import RandomForestClassifier as rfc\r\n",
    "from sklearn.metrics import accuracy_score\r\n",
    "from sklearn.model_selection import train_test_split\r\n",
    "import seaborn as sns\r\n"
   ],
   "outputs": [],
   "metadata": {}
  },
  {
   "cell_type": "markdown",
   "source": [
    "# reading the dataset"
   ],
   "metadata": {}
  },
  {
   "cell_type": "code",
   "execution_count": null,
   "source": [
    "train = pd.read_csv('./dataset/train.csv')\r\n",
    "test = pd.read_csv('./dataset/test.csv')\r\n",
    "\r\n",
    "train.shape\r\n",
    "test.shape\r\n"
   ],
   "outputs": [],
   "metadata": {}
  },
  {
   "cell_type": "markdown",
   "source": [
    "# Editing Key and Answer Variable"
   ],
   "metadata": {}
  },
  {
   "cell_type": "code",
   "execution_count": null,
   "source": [
    "train = train.set_index(['PassengerId'])\r\n",
    "train = train.drop(['Name', 'Ticket', 'Cabin', 'Embarked'], axis=1)\r\n"
   ],
   "outputs": [],
   "metadata": {}
  },
  {
   "cell_type": "markdown",
   "source": [
    "# Exploring missing values"
   ],
   "metadata": {}
  },
  {
   "cell_type": "code",
   "execution_count": null,
   "source": [
    "train.isnull().sum()\r\n",
    "test.isnull().sum()\r\n"
   ],
   "outputs": [],
   "metadata": {}
  },
  {
   "cell_type": "markdown",
   "source": [
    "# fill NA"
   ],
   "metadata": {}
  },
  {
   "cell_type": "code",
   "execution_count": null,
   "source": [
    "train.fillna(0, inplace=True)\r\n",
    "train.isnull().sum()\r\n"
   ],
   "outputs": [],
   "metadata": {}
  },
  {
   "cell_type": "markdown",
   "source": [
    "# Describe\r\n"
   ],
   "metadata": {}
  },
  {
   "cell_type": "code",
   "execution_count": null,
   "source": [
    "train.describe()\r\n"
   ],
   "outputs": [],
   "metadata": {}
  },
  {
   "cell_type": "markdown",
   "source": [
    "# Data Manipulation | Transformation"
   ],
   "metadata": {}
  },
  {
   "cell_type": "code",
   "execution_count": null,
   "source": [
    "train['Women'] = np.where(train['Sex'] == 'female', 1, 0)\r\n",
    "train['Pclass_1'] = np.where(train['Pclass'] == 1, 1, 0)\r\n",
    "train['Pclass_2'] = np.where(train['Pclass'] == 2, 1, 0)\r\n",
    "train['Pclass_3'] = np.where(train['Pclass'] == 3, 1, 0)\r\n",
    "\r\n",
    "train = train.drop(['Pclass', 'Sex'], axis=1)\r\n",
    "\r\n",
    "train.head()\r\n"
   ],
   "outputs": [],
   "metadata": {}
  },
  {
   "cell_type": "markdown",
   "source": [
    "# Training"
   ],
   "metadata": {}
  },
  {
   "cell_type": "code",
   "execution_count": null,
   "source": [
    "x_train, x_test, y_train, y_test = train_test_split(train.drop(\r\n",
    "    ['Survived'], axis=1), train['Survived'], test_size=0.3, random_state=0)\r\n",
    "\r\n",
    "f'treino: {x_train.shape}, teste: {x_test.shape}'\r\n"
   ],
   "outputs": [],
   "metadata": {}
  },
  {
   "cell_type": "markdown",
   "source": [
    "# Random Forest"
   ],
   "metadata": {}
  },
  {
   "cell_type": "code",
   "execution_count": null,
   "source": [
    "rndforest = rfc(n_estimators=1000, criterion='gini', max_depth=5)\r\n",
    "\r\n",
    "rndforest.fit(x_train, y_train)\r\n",
    "\r\n",
    "probability = rndforest.predict_proba(train.drop('Survived', axis=1))[:, 1]\r\n",
    "\r\n",
    "classification = rndforest.predict(train.drop('Survived', axis=1))\r\n",
    "\r\n",
    "train['probability'] = probability\r\n",
    "train['classification'] = classification\r\n",
    "\r\n",
    "train\r\n"
   ],
   "outputs": [],
   "metadata": {}
  }
 ],
 "metadata": {
  "orig_nbformat": 4,
  "language_info": {
   "name": "python"
  }
 },
 "nbformat": 4,
 "nbformat_minor": 2
}